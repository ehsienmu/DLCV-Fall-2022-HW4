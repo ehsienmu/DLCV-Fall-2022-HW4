{
 "cells": [
  {
   "cell_type": "code",
   "execution_count": 1,
   "metadata": {},
   "outputs": [],
   "source": [
    "import pandas as pd\n",
    "import json"
   ]
  },
  {
   "cell_type": "code",
   "execution_count": 2,
   "metadata": {},
   "outputs": [],
   "source": [
    "df = pd.read_csv('./hw4_data/office/train.csv')"
   ]
  },
  {
   "cell_type": "code",
   "execution_count": 3,
   "metadata": {},
   "outputs": [
    {
     "data": {
      "text/html": [
       "<div>\n",
       "<style scoped>\n",
       "    .dataframe tbody tr th:only-of-type {\n",
       "        vertical-align: middle;\n",
       "    }\n",
       "\n",
       "    .dataframe tbody tr th {\n",
       "        vertical-align: top;\n",
       "    }\n",
       "\n",
       "    .dataframe thead th {\n",
       "        text-align: right;\n",
       "    }\n",
       "</style>\n",
       "<table border=\"1\" class=\"dataframe\">\n",
       "  <thead>\n",
       "    <tr style=\"text-align: right;\">\n",
       "      <th></th>\n",
       "      <th>id</th>\n",
       "      <th>filename</th>\n",
       "      <th>label</th>\n",
       "    </tr>\n",
       "  </thead>\n",
       "  <tbody>\n",
       "    <tr>\n",
       "      <th>0</th>\n",
       "      <td>0</td>\n",
       "      <td>Couch00015.jpg</td>\n",
       "      <td>Couch</td>\n",
       "    </tr>\n",
       "    <tr>\n",
       "      <th>1</th>\n",
       "      <td>1</td>\n",
       "      <td>Helmet00018.jpg</td>\n",
       "      <td>Helmet</td>\n",
       "    </tr>\n",
       "    <tr>\n",
       "      <th>2</th>\n",
       "      <td>2</td>\n",
       "      <td>Refrigerator00011.jpg</td>\n",
       "      <td>Refrigerator</td>\n",
       "    </tr>\n",
       "    <tr>\n",
       "      <th>3</th>\n",
       "      <td>3</td>\n",
       "      <td>Alarm_Clock00061.jpg</td>\n",
       "      <td>Alarm_Clock</td>\n",
       "    </tr>\n",
       "    <tr>\n",
       "      <th>4</th>\n",
       "      <td>4</td>\n",
       "      <td>Bike00088.jpg</td>\n",
       "      <td>Bike</td>\n",
       "    </tr>\n",
       "    <tr>\n",
       "      <th>...</th>\n",
       "      <td>...</td>\n",
       "      <td>...</td>\n",
       "      <td>...</td>\n",
       "    </tr>\n",
       "    <tr>\n",
       "      <th>3946</th>\n",
       "      <td>3946</td>\n",
       "      <td>Mouse00019.jpg</td>\n",
       "      <td>Mouse</td>\n",
       "    </tr>\n",
       "    <tr>\n",
       "      <th>3947</th>\n",
       "      <td>3947</td>\n",
       "      <td>Chair00046.jpg</td>\n",
       "      <td>Chair</td>\n",
       "    </tr>\n",
       "    <tr>\n",
       "      <th>3948</th>\n",
       "      <td>3948</td>\n",
       "      <td>Candles00017.jpg</td>\n",
       "      <td>Candles</td>\n",
       "    </tr>\n",
       "    <tr>\n",
       "      <th>3949</th>\n",
       "      <td>3949</td>\n",
       "      <td>Flowers00013.jpg</td>\n",
       "      <td>Flowers</td>\n",
       "    </tr>\n",
       "    <tr>\n",
       "      <th>3950</th>\n",
       "      <td>3950</td>\n",
       "      <td>Flipflops00083.jpg</td>\n",
       "      <td>Flipflops</td>\n",
       "    </tr>\n",
       "  </tbody>\n",
       "</table>\n",
       "<p>3951 rows × 3 columns</p>\n",
       "</div>"
      ],
      "text/plain": [
       "        id               filename         label\n",
       "0        0         Couch00015.jpg         Couch\n",
       "1        1        Helmet00018.jpg        Helmet\n",
       "2        2  Refrigerator00011.jpg  Refrigerator\n",
       "3        3   Alarm_Clock00061.jpg   Alarm_Clock\n",
       "4        4          Bike00088.jpg          Bike\n",
       "...    ...                    ...           ...\n",
       "3946  3946         Mouse00019.jpg         Mouse\n",
       "3947  3947         Chair00046.jpg         Chair\n",
       "3948  3948       Candles00017.jpg       Candles\n",
       "3949  3949       Flowers00013.jpg       Flowers\n",
       "3950  3950     Flipflops00083.jpg     Flipflops\n",
       "\n",
       "[3951 rows x 3 columns]"
      ]
     },
     "execution_count": 3,
     "metadata": {},
     "output_type": "execute_result"
    }
   ],
   "source": [
    "df"
   ]
  },
  {
   "cell_type": "code",
   "execution_count": 4,
   "metadata": {},
   "outputs": [],
   "source": [
    "labels = sorted(df['label'].unique())\n"
   ]
  },
  {
   "cell_type": "code",
   "execution_count": 5,
   "metadata": {},
   "outputs": [
    {
     "data": {
      "text/plain": [
       "<zip at 0x7f7bab404a40>"
      ]
     },
     "execution_count": 5,
     "metadata": {},
     "output_type": "execute_result"
    }
   ],
   "source": [
    "zip(labels,range(len(labels)))"
   ]
  },
  {
   "cell_type": "code",
   "execution_count": 6,
   "metadata": {},
   "outputs": [],
   "source": [
    "translate_dict = {}\n",
    "for k, v in zip(labels,range(len(labels))):\n",
    "    translate_dict[k] = v"
   ]
  },
  {
   "cell_type": "code",
   "execution_count": 7,
   "metadata": {},
   "outputs": [
    {
     "data": {
      "text/plain": [
       "{'Alarm_Clock': 0,\n",
       " 'Backpack': 1,\n",
       " 'Batteries': 2,\n",
       " 'Bed': 3,\n",
       " 'Bike': 4,\n",
       " 'Bottle': 5,\n",
       " 'Bucket': 6,\n",
       " 'Calculator': 7,\n",
       " 'Calendar': 8,\n",
       " 'Candles': 9,\n",
       " 'Chair': 10,\n",
       " 'Clipboards': 11,\n",
       " 'Computer': 12,\n",
       " 'Couch': 13,\n",
       " 'Curtains': 14,\n",
       " 'Desk_Lamp': 15,\n",
       " 'Drill': 16,\n",
       " 'Eraser': 17,\n",
       " 'Exit_Sign': 18,\n",
       " 'Fan': 19,\n",
       " 'File_Cabinet': 20,\n",
       " 'Flipflops': 21,\n",
       " 'Flowers': 22,\n",
       " 'Folder': 23,\n",
       " 'Fork': 24,\n",
       " 'Glasses': 25,\n",
       " 'Hammer': 26,\n",
       " 'Helmet': 27,\n",
       " 'Kettle': 28,\n",
       " 'Keyboard': 29,\n",
       " 'Knives': 30,\n",
       " 'Lamp_Shade': 31,\n",
       " 'Laptop': 32,\n",
       " 'Marker': 33,\n",
       " 'Monitor': 34,\n",
       " 'Mop': 35,\n",
       " 'Mouse': 36,\n",
       " 'Mug': 37,\n",
       " 'Notebook': 38,\n",
       " 'Oven': 39,\n",
       " 'Pan': 40,\n",
       " 'Paper_Clip': 41,\n",
       " 'Pen': 42,\n",
       " 'Pencil': 43,\n",
       " 'Postit_Notes': 44,\n",
       " 'Printer': 45,\n",
       " 'Push_Pin': 46,\n",
       " 'Radio': 47,\n",
       " 'Refrigerator': 48,\n",
       " 'Ruler': 49,\n",
       " 'Scissors': 50,\n",
       " 'Screwdriver': 51,\n",
       " 'Shelf': 52,\n",
       " 'Sink': 53,\n",
       " 'Sneakers': 54,\n",
       " 'Soda': 55,\n",
       " 'Speaker': 56,\n",
       " 'Spoon': 57,\n",
       " 'TV': 58,\n",
       " 'Table': 59,\n",
       " 'Telephone': 60,\n",
       " 'ToothBrush': 61,\n",
       " 'Toys': 62,\n",
       " 'Trash_Can': 63,\n",
       " 'Webcam': 64}"
      ]
     },
     "execution_count": 7,
     "metadata": {},
     "output_type": "execute_result"
    }
   ],
   "source": [
    "translate_dict"
   ]
  },
  {
   "cell_type": "code",
   "execution_count": 8,
   "metadata": {},
   "outputs": [],
   "source": [
    "with open('./office_translate.json', 'w') as f:\n",
    "    json.dump(translate_dict, f)"
   ]
  },
  {
   "cell_type": "code",
   "execution_count": 9,
   "metadata": {},
   "outputs": [
    {
     "data": {
      "text/plain": [
       "65"
      ]
     },
     "execution_count": 9,
     "metadata": {},
     "output_type": "execute_result"
    }
   ],
   "source": [
    "len(translate_dict)"
   ]
  }
 ],
 "metadata": {
  "kernelspec": {
   "display_name": "dlcv_hw4",
   "language": "python",
   "name": "python3"
  },
  "language_info": {
   "codemirror_mode": {
    "name": "ipython",
    "version": 3
   },
   "file_extension": ".py",
   "mimetype": "text/x-python",
   "name": "python",
   "nbconvert_exporter": "python",
   "pygments_lexer": "ipython3",
   "version": "3.8.15 (default, Nov 24 2022, 15:19:38) \n[GCC 11.2.0]"
  },
  "orig_nbformat": 4,
  "vscode": {
   "interpreter": {
    "hash": "d03157babc0e05d0951549f86c102da5200577603baa46aee09f7eec1778c3ab"
   }
  }
 },
 "nbformat": 4,
 "nbformat_minor": 2
}
